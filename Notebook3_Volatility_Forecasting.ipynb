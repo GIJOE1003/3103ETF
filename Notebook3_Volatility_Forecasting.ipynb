{
  "cells": [
    {
      "cell_type": "markdown",
      "metadata": {
        "id": "view-in-github",
        "colab_type": "text"
      },
      "source": [
        "<a href=\"https://colab.research.google.com/github/GIJOE1003/3103ETF/blob/main/Notebook3_Volatility_Forecasting.ipynb\" target=\"_parent\"><img src=\"https://colab.research.google.com/assets/colab-badge.svg\" alt=\"Open In Colab\"/></a>"
      ]
    },
    {
      "cell_type": "markdown",
      "id": "7b34729b",
      "metadata": {
        "id": "7b34729b"
      },
      "source": [
        "# ETF Volatility Forecasting\n",
        "\n",
        "This notebook forecasts 7-day volatility using multiple regression models."
      ]
    },
    {
      "cell_type": "code",
      "execution_count": null,
      "id": "53cbbc13",
      "metadata": {
        "id": "53cbbc13"
      },
      "outputs": [],
      "source": [
        "\n",
        "import yfinance as yf\n",
        "import pandas as pd\n",
        "import numpy as np\n",
        "from datetime import datetime, timedelta\n",
        "import matplotlib.pyplot as plt\n",
        "import seaborn as sns\n",
        "\n",
        "from sklearn.model_selection import train_test_split\n",
        "from sklearn.preprocessing import StandardScaler\n",
        "from sklearn.linear_model import LinearRegression\n",
        "from sklearn.ensemble import RandomForestRegressor\n",
        "from xgboost import XGBRegressor\n",
        "from sklearn.metrics import mean_squared_error, mean_absolute_error, r2_score\n",
        "from sklearn.preprocessing import StandardScaler\n",
        "\n",
        "from tensorflow.keras.models import Sequential\n",
        "from tensorflow.keras.layers import LSTM, Dense\n",
        "from tensorflow.keras.callbacks import EarlyStopping\n"
      ]
    },
    {
      "cell_type": "markdown",
      "id": "8e14f6af",
      "metadata": {
        "id": "8e14f6af"
      },
      "source": [
        "## Data Collection\n",
        "\n",
        "Defines a list of 10 popular ETFs across different asset classes and geographies.\n",
        "\n",
        "Sets the date range to the last 10 years by calculating today's date minus 120 months.\n",
        "\n",
        "Setup a clean, consolidated, and analysis-ready dataset of 10 ETFs over 10 years.\n",
        "\n",
        "Combines all the reshaped data (Open, High, Low, Close, Volume) into a single flat DataFrame.\n",
        "\n",
        "This dataset shall be used as input for all feature engineering and modeling steps in volatility prediction, signal classification, and price forecasting."
      ]
    },
    {
      "cell_type": "code",
      "execution_count": null,
      "id": "56729974",
      "metadata": {
        "colab": {
          "base_uri": "https://localhost:8080/"
        },
        "id": "56729974",
        "outputId": "48604892-6095-4ef6-b0f3-0ba3dac9df99"
      },
      "outputs": [
        {
          "output_type": "stream",
          "name": "stdout",
          "text": [
            "YF.download() has changed argument auto_adjust default to True\n"
          ]
        },
        {
          "output_type": "stream",
          "name": "stderr",
          "text": [
            "[*********************100%***********************]  10 of 10 completed\n"
          ]
        },
        {
          "output_type": "stream",
          "name": "stdout",
          "text": [
            "Combined data saved: (25170, 7)\n",
            "        Date Ticker   Open  Close   High    Low    Volume\n",
            "0 2015-04-13    EEM  34.45  34.18  34.57  34.17  55031100\n",
            "1 2015-04-14    EEM  34.26  34.34  34.41  34.11  42601100\n",
            "2 2015-04-15    EEM  34.33  34.58  34.59  34.26  40254700\n",
            "3 2015-04-16    EEM  34.67  34.85  35.05  34.62  55057700\n",
            "4 2015-04-17    EEM  34.12  34.24  34.30  34.04  76688000\n",
            "            Date Ticker    Open   Close    High     Low    Volume\n",
            "25165 2025-04-07    XLV  131.71  134.47  137.37  129.66  29940300\n",
            "25166 2025-04-08    XLV  139.43  132.98  139.44  131.28  20860400\n",
            "25167 2025-04-09    XLV  130.13  138.76  139.24  129.68  39444700\n",
            "25168 2025-04-10    XLV  137.70  134.89  137.74  131.33  21956900\n",
            "25169 2025-04-11    XLV  135.15  135.12  135.68  133.67   2691433\n",
            "<class 'pandas.core.frame.DataFrame'>\n",
            "RangeIndex: 25170 entries, 0 to 25169\n",
            "Data columns (total 7 columns):\n",
            " #   Column  Non-Null Count  Dtype         \n",
            "---  ------  --------------  -----         \n",
            " 0   Date    25170 non-null  datetime64[ns]\n",
            " 1   Ticker  25170 non-null  object        \n",
            " 2   Open    25170 non-null  float64       \n",
            " 3   Close   25170 non-null  float64       \n",
            " 4   High    25170 non-null  float64       \n",
            " 5   Low     25170 non-null  float64       \n",
            " 6   Volume  25170 non-null  int64         \n",
            "dtypes: datetime64[ns](1), float64(4), int64(1), object(1)\n",
            "memory usage: 1.3+ MB\n"
          ]
        }
      ],
      "source": [
        "\n",
        "# Data Collection\n",
        "tickers = ['SPY', 'QQQ', 'GLD','TLT', 'VTI','EEM','XLF','XLV','VEA','VNQ']\n",
        "end_date = pd.to_datetime('today')\n",
        "start_date = end_date - pd.DateOffset(months=120)\n",
        "\n",
        "# Download prices\n",
        "df_raw = yf.download(tickers, start=start_date, end=end_date)\n",
        "\n",
        "df_open = df_raw['Open'].reset_index().melt(id_vars='Date', var_name='Ticker', value_name='Open')\n",
        "df_close = df_raw['Close'].reset_index().melt(id_vars='Date', var_name='Ticker', value_name='Close')\n",
        "df_high  = df_raw['High'].reset_index().melt(id_vars='Date', var_name='Ticker', value_name='High')\n",
        "df_low   = df_raw['Low'].reset_index().melt(id_vars='Date', var_name='Ticker', value_name='Low')\n",
        "df_volume = df_raw['Volume'].reset_index().melt(id_vars='Date', var_name='Ticker', value_name='Volume')\n",
        "\n",
        "# Merge into one DataFrame\n",
        "df = df_open.merge(df_close, on=['Date', 'Ticker']).merge(df_high, on=['Date', 'Ticker']).merge(df_low, on=['Date', 'Ticker']).merge(df_volume, on=['Date', 'Ticker'])\n",
        "df = df.round(2)\n",
        "\n",
        "# Create CSV File\n",
        "df.to_csv(\"combined_etf_data.csv\", index = False)\n",
        "print(f\"Combined data saved: {df.shape}\")\n",
        "print(df.head())\n",
        "print(df.tail())\n",
        "\n",
        "df.isnull().sum()\n",
        "df.info()\n"
      ]
    },
    {
      "cell_type": "markdown",
      "id": "09524b1c",
      "metadata": {
        "id": "09524b1c"
      },
      "source": [
        "## Feature Engineering\n",
        "\n",
        "Important Block\n",
        "Calculates Daily Returns, as it is fundamental for volatility prediction and trend identification.\n",
        "\n",
        "Computes 20-day rolling standard deviation of returns, as that is the norm to identify recent volatility\n",
        "\n",
        "MA 5 - 20-day simple moving average (despite the name suggesting 5).\n",
        "\n",
        "Close MA5diff - Percent difference between the current price and moving average.\n",
        "\n",
        "SMA smooths trends. EMA gives more weight to recent prices (better for fast trend shifts).\n",
        "\n",
        "ATR7 - 7-day average of True Range.\n",
        "\n",
        "ATR7_pct - Normalized ATR — more useful across ETFs with different price ranges.\n",
        "\n",
        "RSI14- a 14-day momentum oscillator to measure recent gain vs losses\n",
        "\n",
        "%K- Where the current price stands within the 14-day high/low range.\n",
        "\n",
        "%D- 3-day moving average of %K (smoothed version).\n",
        "\n",
        "Dates to capture seasonality and calendar effects on price/volatility\n"
      ]
    },
    {
      "cell_type": "code",
      "source": [
        "df['Return'] = df.groupby('Ticker')['Close'].pct_change().round(4)\n",
        "df['Return'] = df['Return'].fillna(0.0)\n",
        "df['Volatility7'] = df.groupby('Ticker')['Return'].rolling(window=20).std().reset_index(level=0, drop=True).round(4)\n",
        "df['Volatility7'] = df['Volatility7'].fillna(0.0)\n",
        "\n",
        "\n",
        "df['MA5'] = df.groupby('Ticker')['Close'].transform(lambda x: x.rolling(20).mean()).round(4)\n",
        "df['Close_MA5_diff'] = ((df['Close'] - df['MA5']) / df['MA5'] * 100).round(4)\n",
        "\n",
        "windows = [20, 50, 200]\n",
        "for w in windows:\n",
        "    df[f'SMA{w}'] = df.groupby('Ticker')['Close'].transform(lambda x: x.rolling(w).mean()).round(4)\n",
        "    df[f'EMA{w}'] = df.groupby('Ticker')['Close'].transform(lambda x: x.ewm(span=w, adjust=False).mean()).round(4)\n",
        "\n",
        "\n",
        "df['PrevClose'] = df.groupby('Ticker')['Close'].shift(1)\n",
        "df['TR'] = df[['High', 'Low', 'PrevClose']].apply(lambda x: max(x[0]-x[1], abs(x[0]-x[2]), abs(x[1]-x[2])), axis=1).round(4)\n",
        "df['ATR7'] = df.groupby('Ticker')['TR'].transform(lambda x: x.rolling(7).mean()).round(4)\n",
        "df['ATR7_pct'] = (df['ATR7'] / df['Close'] * 100).round(4)\n",
        "\n",
        "def compute_rsi(series, window=14):\n",
        "    delta = series.diff()\n",
        "    gain = delta.where(delta > 0, 0)\n",
        "    loss = -delta.where(delta < 0, 0)\n",
        "\n",
        "    avg_gain = gain.rolling(window=window).mean()\n",
        "    avg_loss = loss.rolling(window=window).mean()\n",
        "\n",
        "    rs = avg_gain / avg_loss\n",
        "    rsi = 100 - (100 / (1 + rs))\n",
        "    return rsi\n",
        "\n",
        "df['RSI14'] = df.groupby('Ticker')['Close'].transform(compute_rsi)\n",
        "\n",
        "ema_12 = df.groupby('Ticker')['Close'].transform(lambda x: x.ewm(span=12, adjust=False).mean())\n",
        "ema_26 = df.groupby('Ticker')['Close'].transform(lambda x: x.ewm(span=26, adjust=False).mean())\n",
        "\n",
        "df['MACD'] = (ema_12 - ema_26).round(4)\n",
        "df['Signal_Line'] = df.groupby('Ticker')['MACD'].transform(lambda x: x.ewm(span=9, adjust=False).mean()).round(4)\n",
        "\n",
        "low14 = df.groupby('Ticker')['Low'].transform(lambda x: x.rolling(14).min())\n",
        "high14 = df.groupby('Ticker')['High'].transform(lambda x: x.rolling(14).max())\n",
        "\n",
        "df['%K'] = ((df['Close'] - low14) / (high14 - low14) * 100).round(2)\n",
        "df['%D'] = df.groupby('Ticker')['%K'].transform(lambda x: x.rolling(3).mean())\n",
        "\n",
        "df['DayOfWeek'] = pd.to_datetime(df['Date']).dt.dayofweek\n",
        "df['Month'] = pd.to_datetime(df['Date']).dt.month\n",
        "df['IsMonthEnd'] = pd.to_datetime(df['Date']).dt.is_month_end.astype(int)\n",
        "\n",
        "\n",
        "df.to_csv(\"combined_etf_data_features.csv\", index = False)\n",
        "print(f\"Combined data saved: {df.shape}\")"
      ],
      "metadata": {
        "colab": {
          "base_uri": "https://localhost:8080/"
        },
        "id": "7vpzvjBvUsR5",
        "outputId": "76445f8d-6271-4ea0-9a3d-f50ab176927f"
      },
      "id": "7vpzvjBvUsR5",
      "execution_count": null,
      "outputs": [
        {
          "output_type": "stream",
          "name": "stderr",
          "text": [
            "<ipython-input-3-c7f3bfe94bce>:17: FutureWarning: Series.__getitem__ treating keys as positions is deprecated. In a future version, integer keys will always be treated as labels (consistent with DataFrame behavior). To access a value by position, use `ser.iloc[pos]`\n",
            "  df['TR'] = df[['High', 'Low', 'PrevClose']].apply(lambda x: max(x[0]-x[1], abs(x[0]-x[2]), abs(x[1]-x[2])), axis=1).round(4)\n"
          ]
        },
        {
          "output_type": "stream",
          "name": "stdout",
          "text": [
            "Combined data saved: (25170, 29)\n"
          ]
        }
      ]
    },
    {
      "cell_type": "markdown",
      "source": [
        "# Target Variable\n",
        "\n",
        "Rolling Standard Deviation - Volatility over 7 days.\n",
        "COmputes 7 days forward\n",
        "Features used (X for features used for prediction, and y for target)\n",
        "Train vs Test Split at 80% and 20%"
      ],
      "metadata": {
        "id": "neRSKAeZHhkM"
      },
      "id": "neRSKAeZHhkM"
    },
    {
      "cell_type": "code",
      "execution_count": null,
      "id": "91d4fa78",
      "metadata": {
        "id": "91d4fa78"
      },
      "outputs": [],
      "source": [
        "df['Return'] = df.groupby('Ticker')['Close'].pct_change()\n",
        "df['Rolling_Std_7'] = df.groupby('Ticker')['Close'].transform(lambda x: x.rolling(7).std().shift(-7))\n",
        "df.dropna(inplace=True)\n",
        "\n",
        "features = ['High', 'Low', 'Volume','Return',\n",
        "    'MA5', 'Close_MA5_diff', 'SMA20', 'EMA20','Volatility7',\n",
        "    'SMA50', 'EMA50', 'SMA200', 'EMA200', 'TR', 'ATR7','RSI14','MACD','Signal_Line','%K','%D','DayOfWeek','Month','IsMonthEnd']\n",
        "X = df[features]\n",
        "y = df['Rolling_Std_7']\n",
        "\n",
        "scaler = StandardScaler()\n",
        "X_scaled = scaler.fit_transform(X)\n",
        "\n",
        "X_train, X_test, y_train, y_test = train_test_split(X_scaled, y, test_size=0.2, shuffle=False)\n"
      ]
    },
    {
      "cell_type": "markdown",
      "id": "32fcd780",
      "metadata": {
        "id": "32fcd780"
      },
      "source": [
        "### Linear Regression\n",
        "Baseline Regression model\n",
        "RMSE - Penalizes larger errors more heavily. Interpreted in same units as target.\n",
        "\n",
        "MAE - Average of absolute differences between predictions and actual values.\n",
        "\n",
        "R2 - Explains how much variance in y_test is explained by the model (1 = perfect)\n",
        "If train error < test error → Overfitting\n",
        "\n",
        "If both errors are high → Underfitting"
      ]
    },
    {
      "cell_type": "code",
      "source": [
        "lr = LinearRegression()\n",
        "lr.fit(X_train, y_train)\n",
        "\n",
        "# Test prediction and evaluation\n",
        "y_pred_lr = lr.predict(X_test)\n",
        "rmse_lr = np.sqrt(mean_squared_error(y_test, y_pred_lr))\n",
        "mae_lr = mean_absolute_error(y_test, y_pred_lr)\n",
        "r2_lr = r2_score(y_test, y_pred_lr)\n",
        "print(f\" Test-LR-RMSE: {rmse_lr:.4f}, MAE: {mae_lr:.4f}, R2: {r2_lr:.4f}\")\n",
        "\n",
        "# Train prediction and evaluation\n",
        "y_train_pred_lr = lr.predict(X_train)\n",
        "rmse_train_lr = np.sqrt(mean_squared_error(y_train, y_train_pred_lr))\n",
        "mae_train_lr = mean_absolute_error(y_train, y_train_pred_lr)\n",
        "r2_train_lr = r2_score(y_train, y_train_pred_lr)\n",
        "print(f\" Train-LR-RMSE: {rmse_train_lr:.4f}, MAE: {mae_train_lr:.4f}, R2: {r2_train_lr:.4f}\")\n"
      ],
      "metadata": {
        "id": "MsQsKZYo2fZu",
        "outputId": "7a22cb70-6b72-4af1-e26b-82fce7c30c83",
        "colab": {
          "base_uri": "https://localhost:8080/"
        }
      },
      "id": "MsQsKZYo2fZu",
      "execution_count": null,
      "outputs": [
        {
          "output_type": "stream",
          "name": "stdout",
          "text": [
            " Test-LR-RMSE: 0.4202, MAE: 0.2808, R2: 0.4976\n",
            " Train-LR-RMSE: 1.1157, MAE: 0.6064, R2: 0.6706\n"
          ]
        }
      ]
    },
    {
      "cell_type": "markdown",
      "id": "26548c68",
      "metadata": {
        "id": "26548c68"
      },
      "source": [
        "### Random Forest Regression\n",
        "RandomForest with default hyperparameters\n",
        "Ensemble of Decision Tree\n"
      ]
    },
    {
      "cell_type": "code",
      "execution_count": null,
      "id": "d68b8100",
      "metadata": {
        "colab": {
          "base_uri": "https://localhost:8080/"
        },
        "id": "d68b8100",
        "outputId": "e5749519-bfe0-43ae-9b06-fc28748cd335"
      },
      "outputs": [
        {
          "output_type": "stream",
          "name": "stdout",
          "text": [
            "Test-RF-RMSE: 0.4422, MAE: 0.3157, R2: 0.4437\n",
            "Train-RF-RMSE: 0.2889, MAE: 0.1572, R2: 0.9779\n"
          ]
        }
      ],
      "source": [
        "rf = RandomForestRegressor()\n",
        "rf.fit(X_train, y_train)\n",
        "\n",
        "# Test prediction and evaluation\n",
        "y_pred_rf = rf.predict(X_test)\n",
        "rmse_rf = np.sqrt(mean_squared_error(y_test, y_pred_rf))\n",
        "mae_rf = mean_absolute_error(y_test, y_pred_rf)\n",
        "r2_rf = r2_score(y_test, y_pred_rf)\n",
        "print(f\"Test-RF-RMSE: {rmse_rf:.4f}, MAE: {mae_rf:.4f}, R2: {r2_rf:.4f}\")\n",
        "\n",
        "# Train prediction and evaluation\n",
        "y_train_pred_rf = rf.predict(X_train)\n",
        "rmse_train_rf = np.sqrt(mean_squared_error(y_train, y_train_pred_rf))\n",
        "mae_train_rf = mean_absolute_error(y_train, y_train_pred_rf)\n",
        "r2_train_rf = r2_score(y_train, y_train_pred_rf)\n",
        "print(f\"Train-RF-RMSE: {rmse_train_rf:.4f}, MAE: {mae_train_rf:.4f}, R2: {r2_train_rf:.4f}\")\n"
      ]
    },
    {
      "cell_type": "markdown",
      "id": "2cabf07d",
      "metadata": {
        "id": "2cabf07d"
      },
      "source": [
        "### XGBoost Regression\n",
        "\n",
        "Gradient Boosting Model - builds trees sequentially to correct the errors of the previous tree."
      ]
    },
    {
      "cell_type": "code",
      "execution_count": null,
      "id": "00c5dc05",
      "metadata": {
        "colab": {
          "base_uri": "https://localhost:8080/"
        },
        "id": "00c5dc05",
        "outputId": "cea3a9a4-cfd0-4135-9039-ed4e2add9d2a"
      },
      "outputs": [
        {
          "output_type": "stream",
          "name": "stdout",
          "text": [
            "Test-XGBoost-RMSE: 0.4500, MAE: 0.3070, R2: 0.4239\n",
            "Train-XGBoost-RMSE: 0.3847, MAE: 0.2711, R2: 0.9608\n"
          ]
        }
      ],
      "source": [
        "xgb = XGBRegressor()\n",
        "xgb.fit(X_train, y_train)\n",
        "\n",
        "# Test prediction and evaluation\n",
        "y_pred_xgb = xgb.predict(X_test)\n",
        "rmse_xgb = np.sqrt(mean_squared_error(y_test, y_pred_xgb))\n",
        "mae_xgb = mean_absolute_error(y_test, y_pred_xgb)\n",
        "r2_xgb = r2_score(y_test, y_pred_xgb)\n",
        "print(f\"Test-XGBoost-RMSE: {rmse_xgb:.4f}, MAE: {mae_xgb:.4f}, R2: {r2_xgb:.4f}\")\n",
        "\n",
        "# Train prediction and evaluation\n",
        "y_train_pred_xgb = xgb.predict(X_train)\n",
        "rmse_train_xgb = np.sqrt(mean_squared_error(y_train, y_train_pred_xgb))\n",
        "mae_train_xgb = mean_absolute_error(y_train, y_train_pred_xgb)\n",
        "r2_train_xgb = r2_score(y_train, y_train_pred_xgb)\n",
        "print(f\"Train-XGBoost-RMSE: {rmse_train_xgb:.4f}, MAE: {mae_train_xgb:.4f}, R2: {r2_train_xgb:.4f}\")\n"
      ]
    },
    {
      "cell_type": "markdown",
      "id": "7f7cda6a",
      "metadata": {
        "id": "7f7cda6a"
      },
      "source": [
        "### LSTM Regression\n",
        "\n",
        "Construct sequential time window for LSTM Modelling\n",
        "\n",
        "Done at each ticker independently, extract historical of 7 days worth of features.\n",
        "\n",
        "Train and Test\n",
        "\n",
        "Train the model, 64 memory units and Final layer with 1 neuron to predict volatility\n",
        "\n",
        "adam - efficient GB optimiser\n",
        "\n",
        "Early stop has been added, half training if validation does not improve for 5 epochs.\n",
        "\n",
        "Trains the model for 10 epochs. Use 10% of the training data for validation. Min batch size of 32.\n",
        "\n",
        "Overfitting (train < test)\n",
        "\n",
        "Underfitting (both errors high)\n",
        "\n",
        "Good generalization (train = test)\n",
        "\n",
        "\n",
        "\n"
      ]
    },
    {
      "cell_type": "code",
      "execution_count": null,
      "id": "9fc3e201",
      "metadata": {
        "colab": {
          "base_uri": "https://localhost:8080/"
        },
        "id": "9fc3e201",
        "outputId": "c1204f4e-1aa2-490b-acf8-74ae67b1e022"
      },
      "outputs": [
        {
          "output_type": "stream",
          "name": "stderr",
          "text": [
            "/usr/local/lib/python3.11/dist-packages/keras/src/layers/rnn/rnn.py:200: UserWarning: Do not pass an `input_shape`/`input_dim` argument to a layer. When using Sequential models, prefer using an `Input(shape)` object as the first layer in the model instead.\n",
            "  super().__init__(**kwargs)\n"
          ]
        },
        {
          "output_type": "stream",
          "name": "stdout",
          "text": [
            "Epoch 1/10\n",
            "\u001b[1m517/517\u001b[0m \u001b[32m━━━━━━━━━━━━━━━━━━━━\u001b[0m\u001b[37m\u001b[0m \u001b[1m8s\u001b[0m 10ms/step - loss: 4.3178 - val_loss: 1.9379\n",
            "Epoch 2/10\n",
            "\u001b[1m517/517\u001b[0m \u001b[32m━━━━━━━━━━━━━━━━━━━━\u001b[0m\u001b[37m\u001b[0m \u001b[1m5s\u001b[0m 10ms/step - loss: 3.6175 - val_loss: 1.9682\n",
            "Epoch 3/10\n",
            "\u001b[1m517/517\u001b[0m \u001b[32m━━━━━━━━━━━━━━━━━━━━\u001b[0m\u001b[37m\u001b[0m \u001b[1m8s\u001b[0m 6ms/step - loss: 3.3483 - val_loss: 2.0124\n",
            "Epoch 4/10\n",
            "\u001b[1m517/517\u001b[0m \u001b[32m━━━━━━━━━━━━━━━━━━━━\u001b[0m\u001b[37m\u001b[0m \u001b[1m5s\u001b[0m 7ms/step - loss: 3.5046 - val_loss: 2.0309\n",
            "Epoch 5/10\n",
            "\u001b[1m517/517\u001b[0m \u001b[32m━━━━━━━━━━━━━━━━━━━━\u001b[0m\u001b[37m\u001b[0m \u001b[1m4s\u001b[0m 7ms/step - loss: 3.4917 - val_loss: 1.9149\n",
            "Epoch 6/10\n",
            "\u001b[1m517/517\u001b[0m \u001b[32m━━━━━━━━━━━━━━━━━━━━\u001b[0m\u001b[37m\u001b[0m \u001b[1m3s\u001b[0m 6ms/step - loss: 3.5725 - val_loss: 2.0418\n",
            "Epoch 7/10\n",
            "\u001b[1m517/517\u001b[0m \u001b[32m━━━━━━━━━━━━━━━━━━━━\u001b[0m\u001b[37m\u001b[0m \u001b[1m5s\u001b[0m 6ms/step - loss: 3.5326 - val_loss: 1.9688\n",
            "Epoch 8/10\n",
            "\u001b[1m517/517\u001b[0m \u001b[32m━━━━━━━━━━━━━━━━━━━━\u001b[0m\u001b[37m\u001b[0m \u001b[1m5s\u001b[0m 6ms/step - loss: 3.6767 - val_loss: 2.0133\n",
            "Epoch 9/10\n",
            "\u001b[1m517/517\u001b[0m \u001b[32m━━━━━━━━━━━━━━━━━━━━\u001b[0m\u001b[37m\u001b[0m \u001b[1m6s\u001b[0m 7ms/step - loss: 3.4837 - val_loss: 2.0063\n",
            "Epoch 10/10\n",
            "\u001b[1m517/517\u001b[0m \u001b[32m━━━━━━━━━━━━━━━━━━━━\u001b[0m\u001b[37m\u001b[0m \u001b[1m5s\u001b[0m 7ms/step - loss: 3.4490 - val_loss: 1.9650\n",
            "\u001b[1m144/144\u001b[0m \u001b[32m━━━━━━━━━━━━━━━━━━━━\u001b[0m\u001b[37m\u001b[0m \u001b[1m1s\u001b[0m 4ms/step\n",
            "Test-LSTM-RMSE: 1.1070, MAE: 1.0287, R2: -2.7107\n",
            "\u001b[1m575/575\u001b[0m \u001b[32m━━━━━━━━━━━━━━━━━━━━\u001b[0m\u001b[37m\u001b[0m \u001b[1m1s\u001b[0m 2ms/step\n",
            "Train-LSTM-RMSE: 1.8450, MAE: 1.2600, R2: -0.0002\n"
          ]
        }
      ],
      "source": [
        "# Rebuild sequence data for LSTM\n",
        "def create_lstm_sequences(data, target, lookback=7):\n",
        "    X_lstm, y_lstm = [], []\n",
        "    for ticker in data['Ticker'].unique():\n",
        "        df_ticker = data[data['Ticker'] == ticker].reset_index(drop=True)\n",
        "        for i in range(lookback, len(df_ticker) - 7):\n",
        "            X_lstm.append(df_ticker[features].iloc[i - lookback:i].values)\n",
        "            y_lstm.append(df_ticker[target].iloc[i])\n",
        "    return np.array(X_lstm), np.array(y_lstm)\n",
        "\n",
        "X_lstm, y_lstm = create_lstm_sequences(df, 'Rolling_Std_7')\n",
        "X_train_lstm, X_test_lstm = X_lstm[:int(0.8 * len(X_lstm))], X_lstm[int(0.8 * len(X_lstm)):]\n",
        "y_train_lstm, y_test_lstm = y_lstm[:int(0.8 * len(y_lstm))], y_lstm[int(0.8 * len(y_lstm)):]\n",
        "\n",
        "# Build model\n",
        "lstm_model = Sequential([\n",
        "    LSTM(64, input_shape=(X_train_lstm.shape[1], X_train_lstm.shape[2])),\n",
        "    Dense(1)\n",
        "])\n",
        "lstm_model.compile(optimizer='adam', loss='mse')\n",
        "early_stop = EarlyStopping(patience=5, restore_best_weights=True)\n",
        "lstm_model.fit(X_train_lstm, y_train_lstm, epochs=10, batch_size=32, validation_split=0.1, callbacks=[early_stop])\n",
        "\n",
        "# Test evaluation\n",
        "y_pred_lstm = lstm_model.predict(X_test_lstm)\n",
        "rmse_lstm = np.sqrt(mean_squared_error(y_test_lstm, y_pred_lstm))\n",
        "mae_lstm = mean_absolute_error(y_test_lstm, y_pred_lstm)\n",
        "r2_lstm = r2_score(y_test_lstm, y_pred_lstm)\n",
        "print(f\"Test-LSTM-RMSE: {rmse_lstm:.4f}, MAE: {mae_lstm:.4f}, R2: {r2_lstm:.4f}\")\n",
        "\n",
        "# Train evaluation\n",
        "y_train_pred_lstm = lstm_model.predict(X_train_lstm)\n",
        "rmse_lstm_train = np.sqrt(mean_squared_error(y_train_lstm, y_train_pred_lstm))\n",
        "mae_lstm_train = mean_absolute_error(y_train_lstm, y_train_pred_lstm)\n",
        "r2_lstm_train = r2_score(y_train_lstm, y_train_pred_lstm)\n",
        "print(f\"Train-LSTM-RMSE: {rmse_lstm_train:.4f}, MAE: {mae_lstm_train:.4f}, R2: {r2_lstm_train:.4f}\")\n"
      ]
    },
    {
      "cell_type": "markdown",
      "source": [
        "# Ensemble (Linear + Random Forest+ XGBoost)\n",
        "\n",
        "trains different models independently on the same training data\n",
        "LR - simple regression ( to capture trends)\n",
        "RF - decision tree (non-linearity)\n",
        "XGB - gradient boosted decision tree (non-linearity)\n",
        "\n",
        "Takes average of the three outputs\n",
        "\n"
      ],
      "metadata": {
        "id": "wCz6ytFnR-2y"
      },
      "id": "wCz6ytFnR-2y"
    },
    {
      "cell_type": "code",
      "source": [
        "# Train models\n",
        "lr_model = LinearRegression().fit(X_train, y_train)\n",
        "rf_model = RandomForestRegressor(n_estimators=100, random_state=42).fit(X_train, y_train)\n",
        "xgb_model = XGBRegressor(n_estimators=100, random_state=42).fit(X_train, y_train)\n",
        "\n",
        "# Predict - Test\n",
        "y_pred_lr = lr_model.predict(X_test)\n",
        "y_pred_rf = rf_model.predict(X_test)\n",
        "y_pred_xgb = xgb_model.predict(X_test)\n",
        "y_pred_ensemble = (y_pred_lr + y_pred_rf + y_pred_xgb) / 3\n",
        "\n",
        "# Predict - Train\n",
        "y_train_lr = lr_model.predict(X_train)\n",
        "y_train_rf = rf_model.predict(X_train)\n",
        "y_train_xgb = xgb_model.predict(X_train)\n",
        "y_train_ensemble = (y_train_lr + y_train_rf + y_train_xgb) / 3\n",
        "\n",
        "# Evaluate Test\n",
        "rmse_test = np.sqrt(mean_squared_error(y_test, y_pred_ensemble))\n",
        "mae_test = mean_absolute_error(y_test, y_pred_ensemble)\n",
        "r2_test = r2_score(y_test, y_pred_ensemble)\n",
        "\n",
        "# Evaluate - Train\n",
        "rmse_train = np.sqrt(mean_squared_error(y_train, y_train_ensemble))\n",
        "mae_train = mean_absolute_error(y_train, y_train_ensemble)\n",
        "r2_train = r2_score(y_train, y_train_ensemble)\n",
        "\n",
        "print(\"Ensemble Volatility Forecasting\")\n",
        "print(f\"Test-RMSE: {rmse_test:.4f}, MAE: {mae_test:.4f}, R²: {r2_test:.4f}\")\n",
        "print(f\"Train-RMSE: {rmse_train:.4f}, MAE: {mae_train:.4f}, R²: {r2_train:.4f}\")\n"
      ],
      "metadata": {
        "colab": {
          "base_uri": "https://localhost:8080/"
        },
        "id": "1p9gm_7OWO2F",
        "outputId": "aa92a440-d8fd-462d-9bd5-d0599e1e2a49"
      },
      "id": "1p9gm_7OWO2F",
      "execution_count": null,
      "outputs": [
        {
          "output_type": "stream",
          "name": "stdout",
          "text": [
            "Ensemble Volatility Forecasting\n",
            "Test-RMSE: 0.4122, MAE: 0.2803, R²: 0.5167\n",
            "Train-RMSE: 0.5468, MAE: 0.3281, R²: 0.9209\n"
          ]
        }
      ]
    },
    {
      "cell_type": "markdown",
      "id": "51a2f694",
      "metadata": {
        "id": "51a2f694"
      },
      "source": [
        "## Final Comparison & Best Model Selection"
      ]
    },
    {
      "cell_type": "code",
      "execution_count": null,
      "id": "5d114351",
      "metadata": {
        "colab": {
          "base_uri": "https://localhost:8080/"
        },
        "id": "5d114351",
        "outputId": "c9c1483b-db43-41a2-b8a8-5ae2374f8f4f"
      },
      "outputs": [
        {
          "output_type": "stream",
          "name": "stdout",
          "text": [
            "                   RMSE_Train  MAE_Train  R2_Train  RMSE_Test  MAE_Test  \\\n",
            "Ensemble             0.546787   0.328148  0.920874   0.412177  0.280288   \n",
            "Linear Regression    1.115709   0.606430  0.670552   0.420218  0.280850   \n",
            "Random Forest        0.288925   0.157240  0.977907   0.442175  0.315714   \n",
            "XGBoost              0.384743   0.271101  0.960823   0.449994  0.306952   \n",
            "LSTM                 1.845007   1.259993 -0.000250   1.107045  1.028699   \n",
            "\n",
            "                    R2_Test  \n",
            "Ensemble           0.516656  \n",
            "Linear Regression  0.497613  \n",
            "Random Forest      0.443740  \n",
            "XGBoost            0.423893  \n",
            "LSTM              -2.710687  \n"
          ]
        }
      ],
      "source": [
        "import pandas as pd\n",
        "\n",
        "# Store results as dictionaries for each metric set\n",
        "results_test = {\n",
        "    'Linear Regression': (rmse_lr, mae_lr, r2_lr),\n",
        "    'Random Forest': (rmse_rf, mae_rf, r2_rf),\n",
        "    'XGBoost': (rmse_xgb, mae_xgb, r2_xgb),\n",
        "    'LSTM': (rmse_lstm, mae_lstm, r2_lstm),\n",
        "    'Ensemble': (rmse_test, mae_test, r2_test)\n",
        "}\n",
        "\n",
        "results_train = {\n",
        "    'Linear Regression': (rmse_train_lr, mae_train_lr, r2_train_lr),\n",
        "    'Random Forest': (rmse_train_rf, mae_train_rf, r2_train_rf),\n",
        "    'XGBoost': (rmse_train_xgb, mae_train_xgb, r2_train_xgb),\n",
        "    'LSTM': (rmse_lstm_train, mae_lstm_train, r2_lstm_train),\n",
        "    'Ensemble': (rmse_train, mae_train, r2_train)\n",
        "}\n",
        "\n",
        "# Convert to DataFrames\n",
        "df_test = pd.DataFrame(results_test, index=['RMSE_Test', 'MAE_Test', 'R2_Test']).T\n",
        "df_train = pd.DataFrame(results_train, index=['RMSE_Train', 'MAE_Train', 'R2_Train']).T\n",
        "\n",
        "# Combine both\n",
        "df_combined = pd.concat([df_train, df_test], axis=1)\n",
        "\n",
        "# Sort by RMSE_Test ascending\n",
        "df_combined_sorted = df_combined.sort_values(by='RMSE_Test')\n",
        "\n",
        "# Display\n",
        "print(df_combined_sorted)\n",
        "\n"
      ]
    },
    {
      "cell_type": "markdown",
      "source": [
        "# Graphs"
      ],
      "metadata": {
        "id": "tKGoajcvSIE5"
      },
      "id": "tKGoajcvSIE5"
    },
    {
      "cell_type": "code",
      "source": [
        "import matplotlib.pyplot as plt\n",
        "import pandas as pd\n",
        "import numpy as np\n",
        "\n",
        "# Sample metrics from your previous output\n",
        "metrics_data = {\n",
        "    'Linear Regression': (rmse_train_lr, mae_train_lr, r2_train_lr),\n",
        "    'Random Forest': (rmse_train_rf, mae_train_rf, r2_train_rf),\n",
        "    'XGBoost': (rmse_train_xgb, mae_train_xgb, r2_train_xgb),\n",
        "    'LSTM': (rmse_lstm_train, mae_lstm_train, r2_lstm_train),\n",
        "    'Ensemble': (rmse_train, mae_train, r2_train)\n",
        "}\n",
        "\n",
        "df_metrics = pd.DataFrame(metrics_data, index=['RMSE_Train', 'MAE_Train', 'R2_Train']).transpose()\n",
        "df_metrics[['RMSE_Test', 'MAE_Test', 'R2_Test']] = [\n",
        "    (rmse_lr, mae_lr, r2_lr),\n",
        "    (rmse_rf, mae_rf, r2_rf),\n",
        "    (rmse_xgb, mae_xgb,\n",
        "     r2_xgb),\n",
        "    (rmse_lstm, mae_lstm, r2_lstm),\n",
        "    (rmse_test, mae_test, r2_test)\n",
        "]\n",
        "\n",
        "\n",
        "#\n",
        "models = df_metrics.index.tolist()\n",
        "x = np.arange(len(models))\n",
        "width = 0.35\n",
        "\n",
        "fig, axs = plt.subplots(1, 3, figsize=(18, 5))\n",
        "\n",
        "# RMSE\n",
        "bars1 = axs[0].bar(x - width/2, df_metrics[\"RMSE_Train\"], width, label='Train', color='orange')\n",
        "bars2 = axs[0].bar(x + width/2, df_metrics[\"RMSE_Test\"], width, label='Test', color='orangered')\n",
        "axs[0].set_title(\"RMSE Comparison\")\n",
        "axs[0].set_xticks(x)\n",
        "axs[0].set_xticklabels(models, rotation=45)\n",
        "axs[0].legend()\n",
        "axs[0].bar_label(bars1, fmt='%.2f', padding=3)\n",
        "axs[0].bar_label(bars2, fmt='%.2f', padding=3)\n",
        "\n",
        "# R²\n",
        "bars1 = axs[1].bar(x - width/2, df_metrics[\"R2_Train\"], width, label='Train', color='orange')\n",
        "bars2 = axs[1].bar(x + width/2, df_metrics[\"R2_Test\"], width, label='Test', color='orangered')\n",
        "axs[1].set_title(\"R² Comparison\")\n",
        "axs[1].set_xticks(x)\n",
        "axs[1].set_xticklabels(models, rotation=45)\n",
        "axs[1].legend()\n",
        "axs[1].bar_label(bars1, fmt='%.2f', padding=3)\n",
        "axs[1].bar_label(bars2, fmt='%.2f', padding=3)\n",
        "\n",
        "# MAE\n",
        "bars1 = axs[2].bar(x - width/2, df_metrics[\"MAE_Train\"], width, label='Train', color='orange')\n",
        "bars2 = axs[2].bar(x + width/2, df_metrics[\"MAE_Test\"], width, label='Test', color='orangered')\n",
        "axs[2].set_title(\"MAE Comparison\")\n",
        "axs[2].set_xticks(x)\n",
        "axs[2].set_xticklabels(models, rotation=45)\n",
        "axs[2].legend()\n",
        "axs[2].bar_label(bars1, fmt='%.2f', padding=3)\n",
        "axs[2].bar_label(bars2, fmt='%.2f', padding=3)\n",
        "\n",
        "plt.tight_layout()\n",
        "plt.show()\n",
        "\n"
      ],
      "metadata": {
        "id": "pbk7kgknZlHu",
        "colab": {
          "base_uri": "https://localhost:8080/",
          "height": 396
        },
        "outputId": "a9e879b9-b776-4063-e526-acc19a27b1ce"
      },
      "id": "pbk7kgknZlHu",
      "execution_count": null,
      "outputs": [
        {
          "output_type": "display_data",
          "data": {
            "text/plain": [
              "<Figure size 1800x500 with 3 Axes>"
            ],
            "image/png": "[encoded data removed]"
          },
          "metadata": {}
        }
      ]
    },
    {
      "cell_type": "code",
      "source": [
        "# Feature importance from Linear Regression\n",
        "lr_importance = np.abs(lr_model.coef_)\n",
        "# With this:\n",
        "lr_series = pd.Series(lr_importance, index=features, name=\"LinearRegression\")\n",
        "rf_series = pd.Series(rf_model.feature_importances_, index=features, name=\"RandomForest\")\n",
        "xgb_series = pd.Series(xgb_model.feature_importances_, index=features, name=\"XGBoost\")\n",
        "\n",
        "features = ['High', 'Low', 'Return', 'Volume', 'MA5', 'Close_MA5_diff', 'SMA20', 'EMA20',\n",
        "            'Volatility7', 'SMA50', 'EMA50', 'SMA200', 'EMA200', 'TR', 'ATR7', 'RSI14',\n",
        "            'MACD', 'Signal_Line', '%K', '%D', 'DayOfWeek', 'Month', 'IsMonthEnd']\n",
        "\n",
        "\n",
        "# Feature importance from Random Forest\n",
        "rf_importance = rf_model.feature_importances_\n",
        "\n",
        "\n",
        "# Feature importance from XGBoost\n",
        "xgb_importance = xgb_model.feature_importances_\n",
        "\n",
        "\n",
        "# Combine\n",
        "importance_df = pd.concat([lr_series, rf_series, xgb_series], axis=1)\n",
        "\n",
        "# Normalize for better comparability\n",
        "importance_df_norm = importance_df / importance_df.max()\n",
        "\n",
        "# Plot all\n",
        "importance_df_norm.plot(kind=\"bar\", figsize=(14, 6))\n",
        "plt.title(\"🔍 Normalized Feature Importance (LR, RF, XGBoost)\")\n",
        "plt.ylabel(\"Normalized Importance\")\n",
        "plt.xlabel(\"Features\")\n",
        "plt.xticks(rotation=45, ha='right')\n",
        "plt.tight_layout()\n",
        "plt.legend(title=\"Model\")\n",
        "plt.show()\n"
      ],
      "metadata": {
        "id": "du_dBS6fRxgp",
        "outputId": "5f69a6a5-1208-45a0-fcac-3925f1939e7b",
        "colab": {
          "base_uri": "https://localhost:8080/",
          "height": 675
        }
      },
      "id": "du_dBS6fRxgp",
      "execution_count": null,
      "outputs": [
        {
          "output_type": "stream",
          "name": "stderr",
          "text": [
            "<ipython-input-16-460a641d36d1>:33: UserWarning: Glyph 128269 (\\N{LEFT-POINTING MAGNIFYING GLASS}) missing from font(s) DejaVu Sans.\n",
            "  plt.tight_layout()\n",
            "/usr/local/lib/python3.11/dist-packages/IPython/core/pylabtools.py:151: UserWarning: Glyph 128269 (\\N{LEFT-POINTING MAGNIFYING GLASS}) missing from font(s) DejaVu Sans.\n",
            "  fig.canvas.print_figure(bytes_io, **kw)\n"
          ]
        },
        {
          "output_type": "display_data",
          "data": {
            "text/plain": [
              "<Figure size 1400x600 with 1 Axes>"
            ],
            "image/png": "[encoded data removed]"
          },
          "metadata": {}
        }
      ]
    },
    {
      "cell_type": "markdown",
      "source": [
        "# To Generate Output"
      ],
      "metadata": {
        "id": "yqxvSfLYL7o1"
      },
      "id": "yqxvSfLYL7o1"
    },
    {
      "cell_type": "code",
      "source": [
        "# Step before training\n",
        "df['Rolling_STD_7'] = (\n",
        "    df.sort_values(['Ticker', 'Date'])\n",
        "      .groupby('Ticker')['Return']\n",
        "      .rolling(window=7)\n",
        "      .std()\n",
        "      .shift(-7)\n",
        "      .reset_index(level=0, drop=True)\n",
        ")\n",
        "\n",
        "#\n",
        "forecast_days = 7\n",
        "today = datetime.today().date()\n",
        "\n",
        "# Generate next 7 days\n",
        "future_dates = []\n",
        "while len(future_dates) < forecast_days:\n",
        "    today+= timedelta(days=1)\n",
        "    if today.weekday() < 5:  # Mon–Fri\n",
        "        future_dates.append(today)\n",
        "\n",
        "# Prepare latest data\n",
        "latest_df = df.groupby(\"Ticker\").tail(1).copy().reset_index(drop=True)\n",
        "future_df = pd.DataFrame(np.repeat(latest_df.values, forecast_days, axis=0), columns=latest_df.columns)\n",
        "future_df[\"Date\"] = future_dates * len(latest_df)\n",
        "\n",
        "\n",
        "for col in features:\n",
        "    if pd.api.types.is_numeric_dtype(future_df[col]):\n",
        "        std_dev = future_df[col].std()\n",
        "        if std_dev > 0:\n",
        "            future_df[col] += np.random.normal(0, 0.01 * std_dev, size=len(future_df))\n",
        "\n",
        "\n",
        "\n",
        "# Features\n",
        "features = ['High', 'Low', 'Return', 'Volume',\n",
        "    'MA5', 'Close_MA5_diff', 'SMA20', 'EMA20', 'Volatility7',\n",
        "    'SMA50', 'EMA50', 'SMA200', 'EMA200', 'TR', 'ATR7',\n",
        "    'RSI14', 'MACD', 'Signal_Line', '%K', '%D',\n",
        "    'DayOfWeek', 'Month', 'IsMonthEnd']\n",
        "\n",
        "\n",
        "scaler = StandardScaler()\n",
        "X_full = scaler.fit_transform(df[features])\n",
        "X_future = scaler.transform(future_df[features])\n",
        "\n",
        "X_future += np.random.normal(0, 0.01, X_future.shape)\n",
        "\n",
        "# Train base models\n",
        "y = df['Rolling_STD_7']  # Your volatility target\n",
        "\n",
        "\n",
        "# Filter rows where target is not NaN\n",
        "valid_rows = ~y.isna()\n",
        "X_full_clean = X_full[valid_rows]\n",
        "y_clean = y[valid_rows]\n",
        "\n",
        "model_lr = LinearRegression().fit(X_full_clean, y_clean)\n",
        "model_rf = RandomForestRegressor(n_estimators=100, random_state=42).fit(X_full_clean, y_clean)\n",
        "model_xgb = XGBRegressor(n_estimators=100, random_state=42).fit(X_full_clean, y_clean)\n",
        "\n",
        "\n",
        "# Predict\n",
        "pred_lr = model_lr.predict(X_future)\n",
        "pred_rf = model_rf.predict(X_future)\n",
        "pred_xgb = model_xgb.predict(X_future)\n",
        "\n",
        "# Simple average ensemble\n",
        "future_df['Predicted_Volatility'] = (pred_lr + pred_rf + pred_xgb) / 3\n",
        "\n",
        "# Output result\n",
        "final_output = future_df[['Ticker', 'Date', 'Predicted_Volatility']]\n",
        "print(final_output)\n",
        "\n",
        "# Optionally export\n",
        "final_output.to_csv(\"volatility.csv\", index=False)\n"
      ],
      "metadata": {
        "colab": {
          "base_uri": "https://localhost:8080/"
        },
        "id": "u9mAWpUaXDvd",
        "outputId": "cd3e601e-3022-45c0-d530-4a347674b928"
      },
      "id": "u9mAWpUaXDvd",
      "execution_count": null,
      "outputs": [
        {
          "output_type": "stream",
          "name": "stdout",
          "text": [
            "   Ticker        Date  Predicted_Volatility\n",
            "0     EEM  2025-04-14              0.010208\n",
            "1     EEM  2025-04-15              0.010051\n",
            "2     EEM  2025-04-16              0.010171\n",
            "3     EEM  2025-04-17              0.010089\n",
            "4     EEM  2025-04-18              0.009465\n",
            "..    ...         ...                   ...\n",
            "65    XLV  2025-04-16              0.007923\n",
            "66    XLV  2025-04-17              0.008234\n",
            "67    XLV  2025-04-18              0.008112\n",
            "68    XLV  2025-04-21              0.007619\n",
            "69    XLV  2025-04-22              0.008052\n",
            "\n",
            "[70 rows x 3 columns]\n"
          ]
        }
      ]
    }
  ],
  "metadata": {
    "colab": {
      "provenance": [],
      "include_colab_link": true
    },
    "language_info": {
      "name": "python"
    },
    "kernelspec": {
      "name": "python3",
      "display_name": "Python 3"
    }
  },
  "nbformat": 4,
  "nbformat_minor": 5
}