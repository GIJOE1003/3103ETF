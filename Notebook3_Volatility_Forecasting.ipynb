{
  "cells": [
    {
      "cell_type": "markdown",
      "metadata": {
        "id": "view-in-github",
        "colab_type": "text"
      },
      "source": [
        "<a href=\"https://colab.research.google.com/github/GIJOE1003/3103ETF/blob/main/Notebook3_Volatility_Forecasting.ipynb\" target=\"_parent\"><img src=\"https://colab.research.google.com/assets/colab-badge.svg\" alt=\"Open In Colab\"/></a>"
      ]
    },
    {
      "cell_type": "markdown",
      "id": "7b34729b",
      "metadata": {
        "id": "7b34729b"
      },
      "source": [
        "# ETF Volatility Forecasting\n",
        "\n",
        "This notebook forecasts 7-day volatility using multiple regression models."
      ]
    },
    {
      "cell_type": "code",
      "execution_count": 1,
      "id": "53cbbc13",
      "metadata": {
        "id": "53cbbc13"
      },
      "outputs": [],
      "source": [
        "\n",
        "import yfinance as yf\n",
        "import pandas as pd\n",
        "import numpy as np\n",
        "from datetime import datetime, timedelta\n",
        "import matplotlib.pyplot as plt\n",
        "import seaborn as sns\n",
        "\n",
        "from sklearn.model_selection import train_test_split\n",
        "from sklearn.preprocessing import StandardScaler\n",
        "from sklearn.linear_model import LinearRegression\n",
        "from sklearn.ensemble import RandomForestRegressor\n",
        "from xgboost import XGBRegressor\n",
        "from sklearn.metrics import mean_squared_error, mean_absolute_error, r2_score\n",
        "\n",
        "from tensorflow.keras.models import Sequential\n",
        "from tensorflow.keras.layers import LSTM, Dense\n",
        "from tensorflow.keras.callbacks import EarlyStopping\n"
      ]
    },
    {
      "cell_type": "markdown",
      "id": "8e14f6af",
      "metadata": {
        "id": "8e14f6af"
      },
      "source": [
        "## Data Collection"
      ]
    },
    {
      "cell_type": "code",
      "execution_count": 3,
      "id": "56729974",
      "metadata": {
        "colab": {
          "base_uri": "https://localhost:8080/"
        },
        "id": "56729974",
        "outputId": "12d28084-2824-437c-9bdb-9517098887a9"
      },
      "outputs": [
        {
          "output_type": "stream",
          "name": "stderr",
          "text": [
            "[*********************100%***********************]  10 of 10 completed\n"
          ]
        },
        {
          "output_type": "stream",
          "name": "stdout",
          "text": [
            "Combined data saved: (25160, 7)\n",
            "        Date Ticker   Open  Close   High    Low    Volume\n",
            "0 2015-04-10    EEM  34.21  34.38  34.39  34.18  49899000\n",
            "1 2015-04-13    EEM  34.45  34.18  34.57  34.17  55031100\n",
            "2 2015-04-14    EEM  34.26  34.34  34.41  34.11  42601100\n",
            "3 2015-04-15    EEM  34.33  34.58  34.59  34.26  40254700\n",
            "4 2015-04-16    EEM  34.67  34.85  35.05  34.62  55057700\n",
            "            Date Ticker    Open   Close    High     Low    Volume\n",
            "25155 2025-04-03    XLV  143.76  143.13  145.19  143.05  10990600\n",
            "25156 2025-04-04    XLV  141.14  135.28  141.71  135.23  21341100\n",
            "25157 2025-04-07    XLV  131.71  134.47  137.37  129.66  29940300\n",
            "25158 2025-04-08    XLV  139.43  132.98  139.44  131.28  20860400\n",
            "25159 2025-04-09    XLV  130.13  138.76  139.24  129.68  39441700\n",
            "<class 'pandas.core.frame.DataFrame'>\n",
            "RangeIndex: 25160 entries, 0 to 25159\n",
            "Data columns (total 7 columns):\n",
            " #   Column  Non-Null Count  Dtype         \n",
            "---  ------  --------------  -----         \n",
            " 0   Date    25160 non-null  datetime64[ns]\n",
            " 1   Ticker  25160 non-null  object        \n",
            " 2   Open    25160 non-null  float64       \n",
            " 3   Close   25160 non-null  float64       \n",
            " 4   High    25160 non-null  float64       \n",
            " 5   Low     25160 non-null  float64       \n",
            " 6   Volume  25160 non-null  int64         \n",
            "dtypes: datetime64[ns](1), float64(4), int64(1), object(1)\n",
            "memory usage: 1.3+ MB\n"
          ]
        }
      ],
      "source": [
        "\n",
        "# Data Collection\n",
        "tickers = ['SPY', 'QQQ', 'GLD','TLT', 'VTI','EEM','XLF','XLV','VEA','VNQ']\n",
        "end_date = pd.to_datetime('today')\n",
        "start_date = end_date - pd.DateOffset(months=120)\n",
        "\n",
        "# Download prices\n",
        "df_raw = yf.download(tickers, start=start_date, end=end_date)\n",
        "\n",
        "df_open = df_raw['Open'].reset_index().melt(id_vars='Date', var_name='Ticker', value_name='Open')\n",
        "df_close = df_raw['Close'].reset_index().melt(id_vars='Date', var_name='Ticker', value_name='Close')\n",
        "df_high  = df_raw['High'].reset_index().melt(id_vars='Date', var_name='Ticker', value_name='High')\n",
        "df_low   = df_raw['Low'].reset_index().melt(id_vars='Date', var_name='Ticker', value_name='Low')\n",
        "df_volume = df_raw['Volume'].reset_index().melt(id_vars='Date', var_name='Ticker', value_name='Volume')\n",
        "\n",
        "# Merge into one DataFrame\n",
        "df = df_open.merge(df_close, on=['Date', 'Ticker']).merge(df_high, on=['Date', 'Ticker']).merge(df_low, on=['Date', 'Ticker']).merge(df_volume, on=['Date', 'Ticker'])\n",
        "df = df.round(2)\n",
        "\n",
        "# Create CSV File\n",
        "df.to_csv(\"combined_etf_data.csv\", index = False)\n",
        "print(f\"Combined data saved: {df.shape}\")\n",
        "print(df.head())\n",
        "print(df.tail())\n",
        "\n",
        "df.isnull().sum()\n",
        "df.info()\n"
      ]
    },
    {
      "cell_type": "markdown",
      "id": "09524b1c",
      "metadata": {
        "id": "09524b1c"
      },
      "source": [
        "## Feature Engineering and Volatility Target"
      ]
    },
    {
      "cell_type": "code",
      "source": [
        "df['Return'] = df.groupby('Ticker')['Close'].pct_change().round(4)\n",
        "df['Return'] = df['Return'].fillna(0.0)\n",
        "df['Volatility7'] = df.groupby('Ticker')['Return'].rolling(window=20).std().reset_index(level=0, drop=True).round(4)\n",
        "df['Volatility7'] = df['Volatility7'].fillna(0.0)\n",
        "\n",
        "\n",
        "df['MA5'] = df.groupby('Ticker')['Close'].transform(lambda x: x.rolling(20).mean()).round(4)\n",
        "df['Close_MA5_diff'] = ((df['Close'] - df['MA5']) / df['MA5'] * 100).round(4)\n",
        "\n",
        "windows = [20, 50, 200]\n",
        "for w in windows:\n",
        "    df[f'SMA{w}'] = df.groupby('Ticker')['Close'].transform(lambda x: x.rolling(w).mean()).round(4)\n",
        "    df[f'EMA{w}'] = df.groupby('Ticker')['Close'].transform(lambda x: x.ewm(span=w, adjust=False).mean()).round(4)\n",
        "\n",
        "\n",
        "df['PrevClose'] = df.groupby('Ticker')['Close'].shift(1)\n",
        "df['TR'] = df[['High', 'Low', 'PrevClose']].apply(lambda x: max(x[0]-x[1], abs(x[0]-x[2]), abs(x[1]-x[2])), axis=1).round(4)\n",
        "df['ATR7'] = df.groupby('Ticker')['TR'].transform(lambda x: x.rolling(7).mean()).round(4)\n",
        "df['ATR7_pct'] = (df['ATR7'] / df['Close'] * 100).round(4)\n",
        "\n",
        "def compute_rsi(series, window=14):\n",
        "    delta = series.diff()\n",
        "    gain = delta.where(delta > 0, 0)\n",
        "    loss = -delta.where(delta < 0, 0)\n",
        "\n",
        "    avg_gain = gain.rolling(window=window).mean()\n",
        "    avg_loss = loss.rolling(window=window).mean()\n",
        "\n",
        "    rs = avg_gain / avg_loss\n",
        "    rsi = 100 - (100 / (1 + rs))\n",
        "    return rsi\n",
        "\n",
        "df['RSI14'] = df.groupby('Ticker')['Close'].transform(compute_rsi)\n",
        "\n",
        "ema_12 = df.groupby('Ticker')['Close'].transform(lambda x: x.ewm(span=12, adjust=False).mean())\n",
        "ema_26 = df.groupby('Ticker')['Close'].transform(lambda x: x.ewm(span=26, adjust=False).mean())\n",
        "\n",
        "df['MACD'] = (ema_12 - ema_26).round(4)\n",
        "df['Signal_Line'] = df.groupby('Ticker')['MACD'].transform(lambda x: x.ewm(span=9, adjust=False).mean()).round(4)\n",
        "\n",
        "low14 = df.groupby('Ticker')['Low'].transform(lambda x: x.rolling(14).min())\n",
        "high14 = df.groupby('Ticker')['High'].transform(lambda x: x.rolling(14).max())\n",
        "\n",
        "df['%K'] = ((df['Close'] - low14) / (high14 - low14) * 100).round(2)\n",
        "df['%D'] = df.groupby('Ticker')['%K'].transform(lambda x: x.rolling(3).mean())\n",
        "\n",
        "df['DayOfWeek'] = pd.to_datetime(df['Date']).dt.dayofweek\n",
        "df['Month'] = pd.to_datetime(df['Date']).dt.month\n",
        "df['IsMonthEnd'] = pd.to_datetime(df['Date']).dt.is_month_end.astype(int)\n",
        "\n",
        "\n",
        "df.to_csv(\"combined_etf_data_features.csv\", index = False)\n",
        "print(f\"Combined data saved: {df.shape}\")"
      ],
      "metadata": {
        "colab": {
          "base_uri": "https://localhost:8080/"
        },
        "id": "7vpzvjBvUsR5",
        "outputId": "78be57ba-cf2d-4e32-f3c4-213c954fba5c"
      },
      "id": "7vpzvjBvUsR5",
      "execution_count": 4,
      "outputs": [
        {
          "output_type": "stream",
          "name": "stderr",
          "text": [
            "<ipython-input-4-c7f3bfe94bce>:17: FutureWarning: Series.__getitem__ treating keys as positions is deprecated. In a future version, integer keys will always be treated as labels (consistent with DataFrame behavior). To access a value by position, use `ser.iloc[pos]`\n",
            "  df['TR'] = df[['High', 'Low', 'PrevClose']].apply(lambda x: max(x[0]-x[1], abs(x[0]-x[2]), abs(x[1]-x[2])), axis=1).round(4)\n"
          ]
        },
        {
          "output_type": "stream",
          "name": "stdout",
          "text": [
            "Combined data saved: (25160, 29)\n"
          ]
        }
      ]
    },
    {
      "cell_type": "code",
      "execution_count": 25,
      "id": "91d4fa78",
      "metadata": {
        "id": "91d4fa78"
      },
      "outputs": [],
      "source": [
        "df['Return'] = df.groupby('Ticker')['Close'].pct_change()\n",
        "df['Rolling_Std_7'] = df.groupby('Ticker')['Close'].transform(lambda x: x.rolling(7).std().shift(-7))\n",
        "df.dropna(inplace=True)\n",
        "\n",
        "features = ['High', 'Low', 'Volume','Return',\n",
        "    'MA5', 'Close_MA5_diff', 'SMA20', 'EMA20','Volatility7',\n",
        "    'SMA50', 'EMA50', 'SMA200', 'EMA200', 'TR', 'ATR7','RSI14','MACD','Signal_Line','%K','%D','DayOfWeek','Month','IsMonthEnd']\n",
        "X = df[features]\n",
        "y = df['Rolling_Std_7']\n",
        "\n",
        "scaler = StandardScaler()\n",
        "X_scaled = scaler.fit_transform(X)\n",
        "\n",
        "X_train, X_test, y_train, y_test = train_test_split(X_scaled, y, test_size=0.2, shuffle=False)\n"
      ]
    },
    {
      "cell_type": "markdown",
      "id": "32fcd780",
      "metadata": {
        "id": "32fcd780"
      },
      "source": [
        "### Linear Regression"
      ]
    },
    {
      "cell_type": "code",
      "source": [
        "lr = LinearRegression()\n",
        "lr.fit(X_train, y_train)\n",
        "\n",
        "# Test prediction and evaluation\n",
        "y_pred_lr = lr.predict(X_test)\n",
        "rmse_lr = np.sqrt(mean_squared_error(y_test, y_pred_lr))\n",
        "mae_lr = mean_absolute_error(y_test, y_pred_lr)\n",
        "r2_lr = r2_score(y_test, y_pred_lr)\n",
        "print(f\" Test-LR-RMSE: {rmse_lr:.4f}, MAE: {mae_lr:.4f}, R2: {r2_lr:.4f}\")\n",
        "\n",
        "# Train prediction and evaluation\n",
        "y_train_pred_lr = lr.predict(X_train)\n",
        "rmse_train_lr = np.sqrt(mean_squared_error(y_train, y_train_pred_lr))\n",
        "mae_train_lr = mean_absolute_error(y_train, y_train_pred_lr)\n",
        "r2_train_lr = r2_score(y_train, y_train_pred_lr)\n",
        "print(f\" Train-LR-RMSE: {rmse_train_lr:.4f}, MAE: {mae_train_lr:.4f}, R2: {r2_train_lr:.4f}\")\n"
      ],
      "metadata": {
        "id": "MsQsKZYo2fZu",
        "outputId": "c689fb2c-1b83-4acd-956f-a39412299332",
        "colab": {
          "base_uri": "https://localhost:8080/"
        }
      },
      "id": "MsQsKZYo2fZu",
      "execution_count": 30,
      "outputs": [
        {
          "output_type": "stream",
          "name": "stdout",
          "text": [
            " Test-LR-RMSE: 0.3942, MAE: 0.2668, R2: 0.5291\n",
            " Train-LR-RMSE: 1.0094, MAE: 0.5794, R2: 0.6921\n"
          ]
        }
      ]
    },
    {
      "cell_type": "markdown",
      "id": "26548c68",
      "metadata": {
        "id": "26548c68"
      },
      "source": [
        "### Random Forest Regression"
      ]
    },
    {
      "cell_type": "code",
      "execution_count": 31,
      "id": "d68b8100",
      "metadata": {
        "colab": {
          "base_uri": "https://localhost:8080/"
        },
        "id": "d68b8100",
        "outputId": "3f4c2318-cbee-4dde-8d16-a843b2266300"
      },
      "outputs": [
        {
          "output_type": "stream",
          "name": "stdout",
          "text": [
            "Test-RF-RMSE: 0.4239, MAE: 0.3115, R2: 0.4557\n",
            "Train-RF-RMSE: 0.2809, MAE: 0.1554, R2: 0.9762\n"
          ]
        }
      ],
      "source": [
        "rf = RandomForestRegressor()\n",
        "rf.fit(X_train, y_train)\n",
        "\n",
        "# Test prediction and evaluation\n",
        "y_pred_rf = rf.predict(X_test)\n",
        "rmse_rf = np.sqrt(mean_squared_error(y_test, y_pred_rf))\n",
        "mae_rf = mean_absolute_error(y_test, y_pred_rf)\n",
        "r2_rf = r2_score(y_test, y_pred_rf)\n",
        "print(f\"Test-RF-RMSE: {rmse_rf:.4f}, MAE: {mae_rf:.4f}, R2: {r2_rf:.4f}\")\n",
        "\n",
        "# Train prediction and evaluation\n",
        "y_train_pred_rf = rf.predict(X_train)\n",
        "rmse_train_rf = np.sqrt(mean_squared_error(y_train, y_train_pred_rf))\n",
        "mae_train_rf = mean_absolute_error(y_train, y_train_pred_rf)\n",
        "r2_train_rf = r2_score(y_train, y_train_pred_rf)\n",
        "print(f\"Train-RF-RMSE: {rmse_train_rf:.4f}, MAE: {mae_train_rf:.4f}, R2: {r2_train_rf:.4f}\")\n"
      ]
    },
    {
      "cell_type": "markdown",
      "id": "2cabf07d",
      "metadata": {
        "id": "2cabf07d"
      },
      "source": [
        "### XGBoost Regression"
      ]
    },
    {
      "cell_type": "code",
      "execution_count": 32,
      "id": "00c5dc05",
      "metadata": {
        "colab": {
          "base_uri": "https://localhost:8080/"
        },
        "id": "00c5dc05",
        "outputId": "b2be3270-3c0b-48e0-da36-c002ee6a9484"
      },
      "outputs": [
        {
          "output_type": "stream",
          "name": "stdout",
          "text": [
            "Test-XGBoost-RMSE: 0.4158, MAE: 0.2946, R2: 0.4762\n",
            "Train-XGBoost-RMSE: 0.3745, MAE: 0.2661, R2: 0.9576\n"
          ]
        }
      ],
      "source": [
        "xgb = XGBRegressor()\n",
        "xgb.fit(X_train, y_train)\n",
        "\n",
        "# Test prediction and evaluation\n",
        "y_pred_xgb = xgb.predict(X_test)\n",
        "rmse_xgb = np.sqrt(mean_squared_error(y_test, y_pred_xgb))\n",
        "mae_xgb = mean_absolute_error(y_test, y_pred_xgb)\n",
        "r2_xgb = r2_score(y_test, y_pred_xgb)\n",
        "print(f\"Test-XGBoost-RMSE: {rmse_xgb:.4f}, MAE: {mae_xgb:.4f}, R2: {r2_xgb:.4f}\")\n",
        "\n",
        "# Train prediction and evaluation\n",
        "y_train_pred_xgb = xgb.predict(X_train)\n",
        "rmse_train_xgb = np.sqrt(mean_squared_error(y_train, y_train_pred_xgb))\n",
        "mae_train_xgb = mean_absolute_error(y_train, y_train_pred_xgb)\n",
        "r2_train_xgb = r2_score(y_train, y_train_pred_xgb)\n",
        "print(f\"Train-XGBoost-RMSE: {rmse_train_xgb:.4f}, MAE: {mae_train_xgb:.4f}, R2: {r2_train_xgb:.4f}\")\n"
      ]
    },
    {
      "cell_type": "markdown",
      "id": "7f7cda6a",
      "metadata": {
        "id": "7f7cda6a"
      },
      "source": [
        "### LSTM Regression"
      ]
    },
    {
      "cell_type": "code",
      "execution_count": 33,
      "id": "9fc3e201",
      "metadata": {
        "colab": {
          "base_uri": "https://localhost:8080/"
        },
        "id": "9fc3e201",
        "outputId": "b5c76d56-1b1e-4719-81a5-1ef9b5e28136"
      },
      "outputs": [
        {
          "output_type": "stream",
          "name": "stdout",
          "text": [
            "Epoch 1/10\n"
          ]
        },
        {
          "output_type": "stream",
          "name": "stderr",
          "text": [
            "/usr/local/lib/python3.11/dist-packages/keras/src/layers/rnn/rnn.py:200: UserWarning: Do not pass an `input_shape`/`input_dim` argument to a layer. When using Sequential models, prefer using an `Input(shape)` object as the first layer in the model instead.\n",
            "  super().__init__(**kwargs)\n"
          ]
        },
        {
          "output_type": "stream",
          "name": "stdout",
          "text": [
            "\u001b[1m510/510\u001b[0m \u001b[32m━━━━━━━━━━━━━━━━━━━━\u001b[0m\u001b[37m\u001b[0m \u001b[1m6s\u001b[0m 6ms/step - loss: 3.7323 - val_loss: 1.9439\n",
            "Epoch 2/10\n",
            "\u001b[1m510/510\u001b[0m \u001b[32m━━━━━━━━━━━━━━━━━━━━\u001b[0m\u001b[37m\u001b[0m \u001b[1m5s\u001b[0m 5ms/step - loss: 3.4344 - val_loss: 1.9579\n",
            "Epoch 3/10\n",
            "\u001b[1m510/510\u001b[0m \u001b[32m━━━━━━━━━━━━━━━━━━━━\u001b[0m\u001b[37m\u001b[0m \u001b[1m6s\u001b[0m 7ms/step - loss: 3.5836 - val_loss: 2.0254\n",
            "Epoch 4/10\n",
            "\u001b[1m510/510\u001b[0m \u001b[32m━━━━━━━━━━━━━━━━━━━━\u001b[0m\u001b[37m\u001b[0m \u001b[1m4s\u001b[0m 6ms/step - loss: 3.4264 - val_loss: 1.9969\n",
            "Epoch 5/10\n",
            "\u001b[1m510/510\u001b[0m \u001b[32m━━━━━━━━━━━━━━━━━━━━\u001b[0m\u001b[37m\u001b[0m \u001b[1m6s\u001b[0m 7ms/step - loss: 3.3195 - val_loss: 1.8524\n",
            "Epoch 6/10\n",
            "\u001b[1m510/510\u001b[0m \u001b[32m━━━━━━━━━━━━━━━━━━━━\u001b[0m\u001b[37m\u001b[0m \u001b[1m5s\u001b[0m 7ms/step - loss: 3.6414 - val_loss: 1.9486\n",
            "Epoch 7/10\n",
            "\u001b[1m510/510\u001b[0m \u001b[32m━━━━━━━━━━━━━━━━━━━━\u001b[0m\u001b[37m\u001b[0m \u001b[1m4s\u001b[0m 7ms/step - loss: 3.5399 - val_loss: 1.9704\n",
            "Epoch 8/10\n",
            "\u001b[1m510/510\u001b[0m \u001b[32m━━━━━━━━━━━━━━━━━━━━\u001b[0m\u001b[37m\u001b[0m \u001b[1m4s\u001b[0m 7ms/step - loss: 3.3059 - val_loss: 1.9722\n",
            "Epoch 9/10\n",
            "\u001b[1m510/510\u001b[0m \u001b[32m━━━━━━━━━━━━━━━━━━━━\u001b[0m\u001b[37m\u001b[0m \u001b[1m3s\u001b[0m 6ms/step - loss: 3.3399 - val_loss: 1.9545\n",
            "Epoch 10/10\n",
            "\u001b[1m510/510\u001b[0m \u001b[32m━━━━━━━━━━━━━━━━━━━━\u001b[0m\u001b[37m\u001b[0m \u001b[1m5s\u001b[0m 6ms/step - loss: 3.4679 - val_loss: 1.9126\n",
            "\u001b[1m142/142\u001b[0m \u001b[32m━━━━━━━━━━━━━━━━━━━━\u001b[0m\u001b[37m\u001b[0m \u001b[1m1s\u001b[0m 3ms/step\n",
            "Test-LSTM-RMSE: 1.1137, MAE: 1.0358, R2: -2.7427\n",
            "\u001b[1m566/566\u001b[0m \u001b[32m━━━━━━━━━━━━━━━━━━━━\u001b[0m\u001b[37m\u001b[0m \u001b[1m1s\u001b[0m 2ms/step\n",
            "Train-LSTM-RMSE: 1.8126, MAE: 1.2464, R2: -0.0008\n"
          ]
        }
      ],
      "source": [
        "# Rebuild sequence data for LSTM\n",
        "def create_lstm_sequences(data, target, lookback=7):\n",
        "    X_lstm, y_lstm = [], []\n",
        "    for ticker in data['Ticker'].unique():\n",
        "        df_ticker = data[data['Ticker'] == ticker].reset_index(drop=True)\n",
        "        for i in range(lookback, len(df_ticker) - 7):\n",
        "            X_lstm.append(df_ticker[features].iloc[i - lookback:i].values)\n",
        "            y_lstm.append(df_ticker[target].iloc[i])\n",
        "    return np.array(X_lstm), np.array(y_lstm)\n",
        "\n",
        "X_lstm, y_lstm = create_lstm_sequences(df, 'Rolling_Std_7')\n",
        "X_train_lstm, X_test_lstm = X_lstm[:int(0.8 * len(X_lstm))], X_lstm[int(0.8 * len(X_lstm)):]\n",
        "y_train_lstm, y_test_lstm = y_lstm[:int(0.8 * len(y_lstm))], y_lstm[int(0.8 * len(y_lstm)):]\n",
        "\n",
        "# Build model\n",
        "lstm_model = Sequential([\n",
        "    LSTM(64, input_shape=(X_train_lstm.shape[1], X_train_lstm.shape[2])),\n",
        "    Dense(1)\n",
        "])\n",
        "lstm_model.compile(optimizer='adam', loss='mse')\n",
        "early_stop = EarlyStopping(patience=5, restore_best_weights=True)\n",
        "lstm_model.fit(X_train_lstm, y_train_lstm, epochs=10, batch_size=32, validation_split=0.1, callbacks=[early_stop])\n",
        "\n",
        "# Test evaluation\n",
        "y_pred_lstm = lstm_model.predict(X_test_lstm)\n",
        "rmse_lstm = np.sqrt(mean_squared_error(y_test_lstm, y_pred_lstm))\n",
        "mae_lstm = mean_absolute_error(y_test_lstm, y_pred_lstm)\n",
        "r2_lstm = r2_score(y_test_lstm, y_pred_lstm)\n",
        "print(f\"Test-LSTM-RMSE: {rmse_lstm:.4f}, MAE: {mae_lstm:.4f}, R2: {r2_lstm:.4f}\")\n",
        "\n",
        "# Train evaluation\n",
        "y_train_pred_lstm = lstm_model.predict(X_train_lstm)\n",
        "rmse_lstm_train = np.sqrt(mean_squared_error(y_train_lstm, y_train_pred_lstm))\n",
        "mae_lstm_train = mean_absolute_error(y_train_lstm, y_train_pred_lstm)\n",
        "r2_lstm_train = r2_score(y_train_lstm, y_train_pred_lstm)\n",
        "print(f\"Train-LSTM-RMSE: {rmse_lstm_train:.4f}, MAE: {mae_lstm_train:.4f}, R2: {r2_lstm_train:.4f}\")\n"
      ]
    },
    {
      "cell_type": "code",
      "source": [
        "# Train models\n",
        "lr_model = LinearRegression().fit(X_train, y_train)\n",
        "rf_model = RandomForestRegressor(n_estimators=100, random_state=42).fit(X_train, y_train)\n",
        "xgb_model = XGBRegressor(n_estimators=100, random_state=42).fit(X_train, y_train)\n",
        "\n",
        "# Predict - Test\n",
        "y_pred_lr = lr_model.predict(X_test)\n",
        "y_pred_rf = rf_model.predict(X_test)\n",
        "y_pred_xgb = xgb_model.predict(X_test)\n",
        "y_pred_ensemble = (y_pred_lr + y_pred_rf + y_pred_xgb) / 3\n",
        "\n",
        "# Predict - Train\n",
        "y_train_lr = lr_model.predict(X_train)\n",
        "y_train_rf = rf_model.predict(X_train)\n",
        "y_train_xgb = xgb_model.predict(X_train)\n",
        "y_train_ensemble = (y_train_lr + y_train_rf + y_train_xgb) / 3\n",
        "\n",
        "# Evaluate Test\n",
        "rmse_test = np.sqrt(mean_squared_error(y_test, y_pred_ensemble))\n",
        "mae_test = mean_absolute_error(y_test, y_pred_ensemble)\n",
        "r2_test = r2_score(y_test, y_pred_ensemble)\n",
        "\n",
        "# Evaluate - Train\n",
        "rmse_train = np.sqrt(mean_squared_error(y_train, y_train_ensemble))\n",
        "mae_train = mean_absolute_error(y_train, y_train_ensemble)\n",
        "r2_train = r2_score(y_train, y_train_ensemble)\n",
        "\n",
        "print(\"Ensemble Volatility Forecasting\")\n",
        "print(f\"Test-RMSE: {rmse_test:.4f}, MAE: {mae_test:.4f}, R²: {r2_test:.4f}\")\n",
        "print(f\"Train-RMSE: {rmse_train:.4f}, MAE: {mae_train:.4f}, R²: {r2_train:.4f}\")\n"
      ],
      "metadata": {
        "colab": {
          "base_uri": "https://localhost:8080/"
        },
        "id": "1p9gm_7OWO2F",
        "outputId": "e6913c8d-b905-4060-fe8e-e2183d998f30"
      },
      "id": "1p9gm_7OWO2F",
      "execution_count": 34,
      "outputs": [
        {
          "output_type": "stream",
          "name": "stdout",
          "text": [
            "📊 Ensemble Volatility Forecasting\n",
            "Test-RMSE: 0.3890, MAE: 0.2764, R²: 0.5416\n",
            "Train-RMSE: 0.5095, MAE: 0.3179, R²: 0.9216\n"
          ]
        }
      ]
    },
    {
      "cell_type": "markdown",
      "id": "51a2f694",
      "metadata": {
        "id": "51a2f694"
      },
      "source": [
        "## Final Comparison & Best Model Selection"
      ]
    },
    {
      "cell_type": "code",
      "execution_count": 40,
      "id": "5d114351",
      "metadata": {
        "colab": {
          "base_uri": "https://localhost:8080/"
        },
        "id": "5d114351",
        "outputId": "c75d2779-b326-4538-fe8c-a6e999950145"
      },
      "outputs": [
        {
          "output_type": "stream",
          "name": "stdout",
          "text": [
            "                   RMSE_Train  MAE_Train  R2_Train  RMSE_Test  MAE_Test  \\\n",
            "Ensemble             0.509493   0.317908  0.921557   0.389001  0.276354   \n",
            "Linear Regression    1.009426   0.579425  0.692088   0.394235  0.266801   \n",
            "XGBoost              0.374485   0.266073  0.957621   0.415816  0.294612   \n",
            "Random Forest        0.280871   0.155419  0.976161   0.423872  0.311540   \n",
            "LSTM                 1.812616   1.246406 -0.000837   1.113725  1.035753   \n",
            "\n",
            "                    R2_Test  \n",
            "Ensemble           0.541554  \n",
            "Linear Regression  0.529132  \n",
            "XGBoost            0.476171  \n",
            "Random Forest      0.455676  \n",
            "LSTM              -2.742739  \n"
          ]
        }
      ],
      "source": [
        "import pandas as pd\n",
        "\n",
        "# Store results as dictionaries for each metric set\n",
        "results_test = {\n",
        "    'Linear Regression': (rmse_lr, mae_lr, r2_lr),\n",
        "    'Random Forest': (rmse_rf, mae_rf, r2_rf),\n",
        "    'XGBoost': (rmse_xgb, mae_xgb, r2_xgb),\n",
        "    'LSTM': (rmse_lstm, mae_lstm, r2_lstm),\n",
        "    'Ensemble': (rmse_test, mae_test, r2_test)\n",
        "}\n",
        "\n",
        "results_train = {\n",
        "    'Linear Regression': (rmse_train_lr, mae_train_lr, r2_train_lr),\n",
        "    'Random Forest': (rmse_train_rf, mae_train_rf, r2_train_rf),\n",
        "    'XGBoost': (rmse_train_xgb, mae_train_xgb, r2_train_xgb),\n",
        "    'LSTM': (rmse_lstm_train, mae_lstm_train, r2_lstm_train),\n",
        "    'Ensemble': (rmse_train, mae_train, r2_train)\n",
        "}\n",
        "\n",
        "# Convert to DataFrames\n",
        "df_test = pd.DataFrame(results_test, index=['RMSE_Test', 'MAE_Test', 'R2_Test']).T\n",
        "df_train = pd.DataFrame(results_train, index=['RMSE_Train', 'MAE_Train', 'R2_Train']).T\n",
        "\n",
        "# Combine both\n",
        "df_combined = pd.concat([df_train, df_test], axis=1)\n",
        "\n",
        "# Sort by RMSE_Test ascending\n",
        "df_combined_sorted = df_combined.sort_values(by='RMSE_Test')\n",
        "\n",
        "# Display\n",
        "print(df_combined_sorted)\n",
        "\n"
      ]
    },
    {
      "cell_type": "code",
      "source": [
        "import matplotlib.pyplot as plt\n",
        "import pandas as pd\n",
        "import numpy as np\n",
        "\n",
        "# Sample metrics from your previous output\n",
        "metrics_data = {\n",
        "    'Linear Regression': (rmse_train_lr, mae_train_lr, r2_train_lr),\n",
        "    'Random Forest': (rmse_train_rf, mae_train_rf, r2_train_rf),\n",
        "    'XGBoost': (rmse_train_xgb, mae_train_xgb, r2_train_xgb),\n",
        "    'LSTM': (rmse_lstm_train, mae_lstm_train, r2_lstm_train),\n",
        "    'Ensemble': (rmse_train, mae_train, r2_train)\n",
        "}\n",
        "\n",
        "df_metrics = pd.DataFrame(metrics_data, index=['RMSE_Train', 'MAE_Train', 'R2_Train']).transpose()\n",
        "df_metrics[['RMSE_Test', 'MAE_Test', 'R2_Test']] = [\n",
        "    (rmse_lr, mae_lr, r2_lr),\n",
        "    (rmse_rf, mae_rf, r2_rf),\n",
        "    (rmse_xgb, mae_xgb,\n",
        "     r2_xgb),\n",
        "    (rmse_lstm, mae_lstm, r2_lstm),\n",
        "    (rmse_test, mae_test, r2_test)\n",
        "]\n",
        "\n",
        "\n",
        "#\n",
        "models = df_metrics.index.tolist()\n",
        "x = np.arange(len(models))\n",
        "width = 0.35\n",
        "\n",
        "fig, axs = plt.subplots(1, 3, figsize=(18, 5))\n",
        "\n",
        "# RMSE\n",
        "bars1 = axs[0].bar(x - width/2, df_metrics[\"RMSE_Train\"], width, label='Train', color='orange')\n",
        "bars2 = axs[0].bar(x + width/2, df_metrics[\"RMSE_Test\"], width, label='Test', color='orangered')\n",
        "axs[0].set_title(\"RMSE Comparison\")\n",
        "axs[0].set_xticks(x)\n",
        "axs[0].set_xticklabels(models, rotation=45)\n",
        "axs[0].legend()\n",
        "axs[0].bar_label(bars1, fmt='%.2f', padding=3)\n",
        "axs[0].bar_label(bars2, fmt='%.2f', padding=3)\n",
        "\n",
        "# R²\n",
        "bars1 = axs[1].bar(x - width/2, df_metrics[\"R2_Train\"], width, label='Train', color='orange')\n",
        "bars2 = axs[1].bar(x + width/2, df_metrics[\"R2_Test\"], width, label='Test', color='orangered')\n",
        "axs[1].set_title(\"R² Comparison\")\n",
        "axs[1].set_xticks(x)\n",
        "axs[1].set_xticklabels(models, rotation=45)\n",
        "axs[1].legend()\n",
        "axs[1].bar_label(bars1, fmt='%.2f', padding=3)\n",
        "axs[1].bar_label(bars2, fmt='%.2f', padding=3)\n",
        "\n",
        "# MAE\n",
        "bars1 = axs[2].bar(x - width/2, df_metrics[\"MAE_Train\"], width, label='Train', color='orange')\n",
        "bars2 = axs[2].bar(x + width/2, df_metrics[\"MAE_Test\"], width, label='Test', color='orangered')\n",
        "axs[2].set_title(\"MAE Comparison\")\n",
        "axs[2].set_xticks(x)\n",
        "axs[2].set_xticklabels(models, rotation=45)\n",
        "axs[2].legend()\n",
        "axs[2].bar_label(bars1, fmt='%.2f', padding=3)\n",
        "axs[2].bar_label(bars2, fmt='%.2f', padding=3)\n",
        "\n",
        "plt.tight_layout()\n",
        "plt.show()\n",
        "\n"
      ],
      "metadata": {
        "id": "pbk7kgknZlHu",
        "colab": {
          "base_uri": "https://localhost:8080/",
          "height": 396
        },
        "outputId": "e21dbe5d-1a64-4654-e8a0-1ba2bf083138"
      },
      "id": "pbk7kgknZlHu",
      "execution_count": 50,
      "outputs": [
        {
          "output_type": "display_data",
          "data": {
            "text/plain": [
              "<Figure size 1800x500 with 3 Axes>"
            ],
            "image/png": "[encoded data removed]"
          },
          "metadata": {}
        }
      ]
    },
    {
      "cell_type": "code",
      "source": [
        "import pandas as pd\n",
        "import numpy as np\n",
        "from datetime import datetime, timedelta\n",
        "from sklearn.linear_model import LinearRegression\n",
        "from sklearn.ensemble import RandomForestRegressor\n",
        "from xgboost import XGBRegressor\n",
        "from sklearn.preprocessing import StandardScaler\n",
        "\n",
        "# Step before training\n",
        "df['Rolling_STD_7'] = (\n",
        "    df.sort_values(['Ticker', 'Date'])\n",
        "      .groupby('Ticker')['Return']\n",
        "      .rolling(window=7)\n",
        "      .std()\n",
        "      .shift(-7)\n",
        "      .reset_index(level=0, drop=True)\n",
        ")\n",
        "\n",
        "#\n",
        "forecast_days = 7\n",
        "today = datetime.today().date()\n",
        "\n",
        "# Generate next 7 days\n",
        "future_dates = []\n",
        "while len(future_dates) < forecast_days:\n",
        "    today+= timedelta(days=1)\n",
        "    if today.weekday() < 5:  # Mon–Fri\n",
        "        future_dates.append(today)\n",
        "\n",
        "# Prepare latest data\n",
        "latest_df = df.groupby(\"Ticker\").tail(1).copy().reset_index(drop=True)\n",
        "future_df = pd.DataFrame(np.repeat(latest_df.values, forecast_days, axis=0), columns=latest_df.columns)\n",
        "future_df[\"Date\"] = future_dates * len(latest_df)\n",
        "\n",
        "\n",
        "for col in features:\n",
        "    if pd.api.types.is_numeric_dtype(future_df[col]):\n",
        "        std_dev = future_df[col].std()\n",
        "        if std_dev > 0:\n",
        "            future_df[col] += np.random.normal(0, 0.01 * std_dev, size=len(future_df))\n",
        "\n",
        "\n",
        "\n",
        "# Features\n",
        "features = ['High', 'Low', 'Return', 'Volume',\n",
        "    'MA5', 'Close_MA5_diff', 'SMA20', 'EMA20', 'Volatility7',\n",
        "    'SMA50', 'EMA50', 'SMA200', 'EMA200', 'TR', 'ATR7',\n",
        "    'RSI14', 'MACD', 'Signal_Line', '%K', '%D',\n",
        "    'DayOfWeek', 'Month', 'IsMonthEnd']\n",
        "\n",
        "\n",
        "scaler = StandardScaler()\n",
        "X_full = scaler.fit_transform(df[features])\n",
        "X_future = scaler.transform(future_df[features])\n",
        "\n",
        "X_future += np.random.normal(0, 0.01, X_future.shape)\n",
        "\n",
        "# Train base models\n",
        "y = df['Rolling_STD_7']  # Your volatility target\n",
        "\n",
        "\n",
        "# Filter rows where target is not NaN\n",
        "valid_rows = ~y.isna()\n",
        "X_full_clean = X_full[valid_rows]\n",
        "y_clean = y[valid_rows]\n",
        "\n",
        "model_lr = LinearRegression().fit(X_full_clean, y_clean)\n",
        "model_rf = RandomForestRegressor(n_estimators=100, random_state=42).fit(X_full_clean, y_clean)\n",
        "model_xgb = XGBRegressor(n_estimators=100, random_state=42).fit(X_full_clean, y_clean)\n",
        "\n",
        "\n",
        "# Predict\n",
        "pred_lr = model_lr.predict(X_future)\n",
        "pred_rf = model_rf.predict(X_future)\n",
        "pred_xgb = model_xgb.predict(X_future)\n",
        "\n",
        "# Simple average ensemble\n",
        "future_df['Predicted_Volatility'] = (pred_lr + pred_rf + pred_xgb) / 3\n",
        "\n",
        "# Output result\n",
        "final_output = future_df[['Ticker', 'Date', 'Predicted_Volatility']]\n",
        "print(final_output)\n",
        "\n",
        "# Optionally export\n",
        "final_output.to_csv(\"volatility.csv\", index=False)\n"
      ],
      "metadata": {
        "colab": {
          "base_uri": "https://localhost:8080/"
        },
        "id": "u9mAWpUaXDvd",
        "outputId": "bb4729d8-0269-4eae-9dbb-8ffa92a01f21"
      },
      "id": "u9mAWpUaXDvd",
      "execution_count": 51,
      "outputs": [
        {
          "output_type": "stream",
          "name": "stdout",
          "text": [
            "   Ticker        Date  Predicted_Volatility\n",
            "0     EEM  2025-04-11              0.008309\n",
            "1     EEM  2025-04-14              0.008089\n",
            "2     EEM  2025-04-15              0.007385\n",
            "3     EEM  2025-04-16              0.007610\n",
            "4     EEM  2025-04-17              0.007963\n",
            "..    ...         ...                   ...\n",
            "65    XLV  2025-04-15              0.007704\n",
            "66    XLV  2025-04-16              0.008412\n",
            "67    XLV  2025-04-17              0.007975\n",
            "68    XLV  2025-04-18              0.007403\n",
            "69    XLV  2025-04-21              0.007284\n",
            "\n",
            "[70 rows x 3 columns]\n"
          ]
        }
      ]
    }
  ],
  "metadata": {
    "colab": {
      "provenance": [],
      "include_colab_link": true
    },
    "language_info": {
      "name": "python"
    },
    "kernelspec": {
      "name": "python3",
      "display_name": "Python 3"
    }
  },
  "nbformat": 4,
  "nbformat_minor": 5
}